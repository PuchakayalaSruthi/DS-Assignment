{
 "cells": [
  {
   "cell_type": "markdown",
   "id": "b0c9306c-cb27-4468-9984-158ff8b0f76d",
   "metadata": {},
   "source": [
    "# Data Science Tools and Ecosystem"
   ]
  },
  {
   "cell_type": "markdown",
   "id": "fc8f622e-41f8-426c-ad78-634c987df8a3",
   "metadata": {},
   "source": [
    "## In this notebook, Data Science Tools and Ecosystem are summarized."
   ]
  },
  {
   "cell_type": "markdown",
   "id": "ef5e50e4-cc3b-4191-9a59-23cb15ec012c",
   "metadata": {},
   "source": [
    "## Author\n",
    "   Sruthi Puchakayala"
   ]
  },
  {
   "cell_type": "markdown",
   "id": "c28bc9a0-d053-4d14-8e73-c038a4fc04b1",
   "metadata": {},
   "source": [
    "## Objectives:\n",
    "* List popular Languages for Data Science\n",
    "* List Tools used for Data Science\n",
    "* List popular Libraries  used for Data Science\n",
    "* Use jupiter Notebooks and Jupiter Labs\n",
    "* Plot with R in RStudio\n",
    "* Use GitHub\n"
   ]
  },
  {
   "cell_type": "markdown",
   "id": "d27466be-45f3-4fdc-bb6c-e05f88bccd10",
   "metadata": {},
   "source": [
    "### Some of the popular languages that Data Scientists use are:"
   ]
  },
  {
   "cell_type": "markdown",
   "id": "9f772679-2442-4850-815a-4aa76d2dcc98",
   "metadata": {},
   "source": [
    "1. Python\n",
    "2. R\n",
    "3. SQL\n",
    "4. JavaScript\n",
    "5. Julia\n",
    "6. Java\n",
    "7. C++"
   ]
  },
  {
   "cell_type": "markdown",
   "id": "8a703fda-4a13-4ac2-a92e-d2a3a7a69e2b",
   "metadata": {},
   "source": [
    "### Some of the commonly used libraries used by Data Scientists include: "
   ]
  },
  {
   "cell_type": "markdown",
   "id": "79c17d84-04f1-4db0-aae9-1d36bd381693",
   "metadata": {},
   "source": [
    "1. NumPy\n",
    "2. Pandas\n",
    "3. Matplotlib\n",
    "4. Seaborne\n",
    "5. ggplot\n",
    "6. GGally\n",
    "7. Keras\n",
    "\n"
   ]
  },
  {
   "cell_type": "markdown",
   "id": "b049b948-5785-4c76-9460-4427f3c9c103",
   "metadata": {},
   "source": [
    "### Data Science Tools"
   ]
  },
  {
   "cell_type": "markdown",
   "id": "d00413a6-b8d5-47fa-9e4d-9219038f2301",
   "metadata": {},
   "source": [
    "|Data Science Tools|\n",
    "|------------------|\n",
    "| Jupiter Notebook |\n",
    "| RStudio          |\n",
    "| ApacheSparkSQL   |\n",
    "| GitHub           |\n",
    "| Spyder           |\n",
    "| Zepplin          |\n",
    "| KNIME            |\n",
    "\n"
   ]
  },
  {
   "cell_type": "markdown",
   "id": "17103f97-28fd-4816-9e63-275ffca3c7cb",
   "metadata": {},
   "source": [
    "### Below are a few examples of evaluating arithmetic expressions in Python "
   ]
  },
  {
   "cell_type": "code",
   "execution_count": 3,
   "id": "3b775ef5-ab9e-4a29-ac5d-1c3458230653",
   "metadata": {},
   "outputs": [
    {
     "data": {
      "text/plain": [
       "17"
      ]
     },
     "execution_count": 3,
     "metadata": {},
     "output_type": "execute_result"
    }
   ],
   "source": [
    "# This a simple arithmetic expression to multiply then add integers\n",
    "(3*4)+5"
   ]
  },
  {
   "cell_type": "code",
   "execution_count": 12,
   "id": "379f8376-670d-4a7d-aa31-aff0be274f85",
   "metadata": {},
   "outputs": [
    {
     "name": "stdout",
     "output_type": "stream",
     "text": [
      "200 minutes = 3.33 hours\n"
     ]
    }
   ],
   "source": [
    "# This will convert 200 minutes to hours by dividing by 60\n",
    "h=200/60\n",
    "print(\"200 minutes = %.2f hours\" %h)"
   ]
  },
  {
   "cell_type": "code",
   "execution_count": null,
   "id": "c40b8b60-9346-4ec6-8125-577a4a6d0c11",
   "metadata": {},
   "outputs": [],
   "source": []
  }
 ],
 "metadata": {
  "kernelspec": {
   "display_name": "Python",
   "language": "python",
   "name": "conda-env-python-py"
  },
  "language_info": {
   "codemirror_mode": {
    "name": "ipython",
    "version": 3
   },
   "file_extension": ".py",
   "mimetype": "text/x-python",
   "name": "python",
   "nbconvert_exporter": "python",
   "pygments_lexer": "ipython3",
   "version": "3.7.12"
  }
 },
 "nbformat": 4,
 "nbformat_minor": 5
}
